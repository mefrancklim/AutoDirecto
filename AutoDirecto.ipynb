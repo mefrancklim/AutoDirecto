{
 "cells": [
  {
   "cell_type": "code",
   "execution_count": 3,
   "id": "a970db72-20eb-466e-8882-39e291d3d730",
   "metadata": {},
   "outputs": [
    {
     "name": "stdout",
     "output_type": "stream",
     "text": [
      "Já existe: D:\\CERTIFICADOS\\MARIA EDUARDA CANDIDA FRANCKLIM FRANCISCO\n",
      "Já existe: D:\\CERTIFICADOS\\VICTORIA MONTEIRO DE OLIVEIRA\n",
      "Criado: D:\\CERTIFICADOS\\NEILA NUNES FERREIRA\n",
      "Já existe: D:\\CERTIFICADOS\\AUGUSTO LAUANDE RODRIGUES\n",
      "Criado: D:\\CERTIFICADOS\\MIGUEL ANGELO SANTOS BICUDO\n",
      "Criado: D:\\CERTIFICADOS\\HÉLISSON NASCIMENTO DOS SANTOS\n",
      "Criado: D:\\CERTIFICADOS\\JONATHAN CARLIM DE NOVAES\n",
      "Criado: D:\\CERTIFICADOS\\JOÃO PEDRO RODRIGUES AREIAS\n",
      "Criado: D:\\CERTIFICADOS\\PEDRO CHANGUIR SARAPECK SILVA PINTO\n",
      "Criado: D:\\CERTIFICADOS\\CAROLINA NUNES GONÇALVES DIAS\n",
      "Criado: D:\\CERTIFICADOS\\FREDERICO MACIEL PINHEIRO SAMPAIO DE MIRANDA\n",
      "Criado: D:\\CERTIFICADOS\\JOÃO PEDRO VIANNA DONETTO\n",
      "Já existe: D:\\CERTIFICADOS\\MARIANA A. G. GARCIA\n",
      "Criado: D:\\CERTIFICADOS\\THAUAN VAISMAN N. DE PAIVA SILVA\n",
      "Já existe: D:\\CERTIFICADOS\\EDWIN CAMILLO VARON\n",
      "Já existe: D:\\CERTIFICADOS\\DAVI GABRIEL GOMES DOS SANTOS\n",
      "Criado: D:\\CERTIFICADOS\\CAROLINA DA CONCEIÇÃO BENTO\n",
      "Criado: D:\\CERTIFICADOS\\KAMILLA THAIS RABELLO SIMAS\n",
      "Criado: D:\\CERTIFICADOS\\THIAGO PEREIRA DA SILVA\n",
      "Já existe: D:\\CERTIFICADOS\\HAILLANY SILVA DE SOUZA\n",
      "Já existe: D:\\CERTIFICADOS\\BERNARDO KHATER\n",
      "Já existe: D:\\CERTIFICADOS\\MAUREN ESPINOSA GASPAR\n"
     ]
    }
   ],
   "source": [
    "import os\n",
    "import pandas as pd\n",
    "\n",
    "caminho_planilha = r\"C:\\Users\\Maria-EduardaFranckl\\Desktop\\EmissaoDeCertificados.xlsx\"\n",
    "\n",
    "diretorio_base = r\"D:\\CERTIFICADOS\"\n",
    "\n",
    "df = pd.read_excel(caminho_planilha)\n",
    "\n",
    "nomes = df['NOME COMPLETO'].dropna().drop_duplicates()\n",
    "\n",
    "for nome in nomes:\n",
    "    nome_diretorio = os.path.join(diretorio_base, str(nome).strip())\n",
    "    \n",
    "    if not os.path.exists(nome_diretorio):\n",
    "        os.makedirs(nome_diretorio)\n",
    "        print(f'Criado: {nome_diretorio}')\n",
    "    else:\n",
    "        print(f'Já existe: {nome_diretorio}')"
   ]
  },
  {
   "cell_type": "code",
   "execution_count": null,
   "id": "4dbccb5a-9541-44d0-a08e-00c8310243bf",
   "metadata": {},
   "outputs": [],
   "source": []
  }
 ],
 "metadata": {
  "kernelspec": {
   "display_name": "Python 3 (ipykernel)",
   "language": "python",
   "name": "python3"
  },
  "language_info": {
   "codemirror_mode": {
    "name": "ipython",
    "version": 3
   },
   "file_extension": ".py",
   "mimetype": "text/x-python",
   "name": "python",
   "nbconvert_exporter": "python",
   "pygments_lexer": "ipython3",
   "version": "3.13.0"
  }
 },
 "nbformat": 4,
 "nbformat_minor": 5
}
